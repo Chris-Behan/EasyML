{
 "cells": [
  {
   "cell_type": "code",
   "execution_count": 8,
   "metadata": {},
   "outputs": [],
   "source": [
    "import pandas as pd \n",
    "import numpy as np \n",
    "import os \n",
    "from sklearn.linear_model import LogisticRegression\n",
    "from sklearn.model_selection import train_test_split\n",
    "from sklearn import metrics\n",
    "from matplotlib import pyplot as plt \n",
    "from sklearn import preprocessing\n",
    "from sklearn.preprocessing import LabelEncoder"
   ]
  },
  {
   "cell_type": "code",
   "execution_count": null,
   "metadata": {},
   "outputs": [],
   "source": []
  },
  {
   "cell_type": "code",
   "execution_count": null,
   "metadata": {},
   "outputs": [],
   "source": []
  },
  {
   "cell_type": "code",
   "execution_count": 67,
   "metadata": {},
   "outputs": [],
   "source": [
    "\"\"\"\n",
    "Please ensure that the features are either one-hot encoded OR ensure users are able to only select numeric columns \n",
    "\n",
    "\"\"\"\n",
    "def process_logistic_file(features, label, file):\n",
    "    \n",
    "\n",
    "    # convert comma seperated list of features to list\n",
    "    feature_list = features.split(',')\n",
    "\n",
    "    # read training csv into pandas\n",
    "    training_data = pd.read_csv(file)\n",
    "    \n",
    "    feature_data = training_data[feature_list]\n",
    "\n",
    "    \n",
    "    label_df = training_data[[label]]\n",
    "    \n",
    "    # we need to encode the labels so that \n",
    "    encode = LabelEncoder()\n",
    "    \n",
    "    \n",
    "    # Here we are encoding the labels. This is to make the categorical labels numeric so that sklearn can handle them \n",
    "    label_df[label] = encode.fit_transform(label_df[label])\n",
    "    \n",
    "    \n",
    "    #print(\"unique labels:\", label_df.PavedDrive.unique())\n",
    "\n",
    "    \n",
    "\n",
    "    # split the data the user gave us into 70, 30 sets so that we can give them an indication of how accurate\n",
    "\n",
    "    x_train, x_test, y_train, y_test = train_test_split(feature_data, label_df, test_size=.3)\n",
    "    \n",
    "    \n",
    "    logreg = LogisticRegression(solver='lbfgs', multi_class='multinomial')\n",
    "\n",
    "    # Create an instance of Logistic Regression Classifier and fit the data.\n",
    "    logreg.fit(x_train, y_train)\n",
    "    \n",
    "    accuracy = logreg.score(x_test, y_test)\n",
    "    print(\"accuracy:\", logreg.score(x_test, y_test))\n",
    "    \n",
    "    print(x_train.head())\n",
    "    \n",
    "    # now make a prediction \n",
    "    \n",
    "    predictions = logreg.predict(x_test)\n",
    "    print(predictions[0])\n",
    "    print(\"test.head\", x_test.head())\n",
    "    return (accuracy, logreg)\n",
    "\n",
    "def make_LR_prediction(model, data):\n",
    "    return model.predict([data])"
   ]
  },
  {
   "cell_type": "code",
   "execution_count": 68,
   "metadata": {},
   "outputs": [
    {
     "name": "stdout",
     "output_type": "stream",
     "text": [
      "accuracy: 0.9155251141552512\n",
      "      1stFlrSF  2ndFlrSF  GrLivArea  FullBath  BedroomAbvGr  Fireplaces  \\\n",
      "223        864         0        864         1             2           0   \n",
      "1223      2136         0       2136         2             4           0   \n",
      "222        811       741       1552         2             3           1   \n",
      "1449       630         0        630         1             1           0   \n",
      "810       1309         0       1309         1             3           1   \n",
      "\n",
      "      HalfBath  GarageArea  PoolArea  YrSold  LotArea  OverallQual  \\\n",
      "223          0         576         0    2009    10500            4   \n",
      "1223         0         528         0    2006    10680            5   \n",
      "222          1         434         0    2006    11475            6   \n",
      "1449         0           0         0    2006     1533            5   \n",
      "810          1         484       648    2006    10140            6   \n",
      "\n",
      "      OverallCond  YearBuilt  \n",
      "223             6       1971  \n",
      "1223            3       1951  \n",
      "222             6       1975  \n",
      "1449            7       1970  \n",
      "810             6       1974  \n",
      "2\n",
      "test.head       1stFlrSF  2ndFlrSF  GrLivArea  FullBath  BedroomAbvGr  Fireplaces  \\\n",
      "1205      2196         0       2196         2             3           1   \n",
      "173       1362         0       1362         1             3           1   \n",
      "1454      1221         0       1221         2             2           0   \n",
      "892       1068         0       1068         1             3           0   \n",
      "48         736       716       1452         2             2           0   \n",
      "\n",
      "      HalfBath  GarageArea  PoolArea  YrSold  LotArea  OverallQual  \\\n",
      "1205         0         701         0    2009    14684            7   \n",
      "173          1         504         0    2008    10197            6   \n",
      "1454         0         400         0    2009     7500            7   \n",
      "892          0         264         0    2006     8414            6   \n",
      "48           0           0         0    2009     4456            4   \n",
      "\n",
      "      OverallCond  YearBuilt  \n",
      "1205            7       1990  \n",
      "173             5       1961  \n",
      "1454            5       2004  \n",
      "892             8       1963  \n",
      "48              5       1920  \n"
     ]
    },
    {
     "name": "stderr",
     "output_type": "stream",
     "text": [
      "/usr/lib/python3/dist-packages/ipykernel_launcher.py:24: SettingWithCopyWarning: \n",
      "A value is trying to be set on a copy of a slice from a DataFrame.\n",
      "Try using .loc[row_indexer,col_indexer] = value instead\n",
      "\n",
      "See the caveats in the documentation: http://pandas.pydata.org/pandas-docs/stable/indexing.html#indexing-view-versus-copy\n",
      "/home/montasir/.local/lib/python3.6/site-packages/sklearn/utils/validation.py:761: DataConversionWarning: A column-vector y was passed when a 1d array was expected. Please change the shape of y to (n_samples, ), for example using ravel().\n",
      "  y = column_or_1d(y, warn=True)\n",
      "/home/montasir/.local/lib/python3.6/site-packages/sklearn/linear_model/logistic.py:758: ConvergenceWarning: lbfgs failed to converge. Increase the number of iterations.\n",
      "  \"of iterations.\", ConvergenceWarning)\n"
     ]
    }
   ],
   "source": [
    "training_data = pd.read_csv('/mnt/c/Users/monta/Documents/hackED2019/data/train.csv' )\n",
    "feature_names = \"1stFlrSF,2ndFlrSF,GrLivArea,FullBath,BedroomAbvGr,Fireplaces,HalfBath,GarageArea,PoolArea,YrSold,LotArea,OverallQual,OverallCond,YearBuilt\"\n",
    "label_name = \"PavedDrive\" \n",
    "file = '/mnt/c/Users/monta/Documents/hackED2019/data/train.csv'\n",
    "\n",
    "accuracy, model = process_logistic_file(feature_names, label_name, file)\n",
    "\n",
    "rand_data = [1099,0,1099,1,3,0 , 838,1 ,352, 0 ,2008, 9525 ,5,838 ,6,1995 ]\n",
    "\n",
    "\n"
   ]
  },
  {
   "cell_type": "code",
   "execution_count": 70,
   "metadata": {},
   "outputs": [
    {
     "name": "stdout",
     "output_type": "stream",
     "text": [
      "predicted num: [2]\n"
     ]
    }
   ],
   "source": [
    "rand_data = [864, 0 , 864 , 1 , 2 , 0, 0,57, 0 ,2009,10500  , 4, 6 ,  1971]\n",
    "print(\"predicted num:\", make_LR_prediction(model, rand_data))"
   ]
  },
  {
   "cell_type": "code",
   "execution_count": null,
   "metadata": {},
   "outputs": [],
   "source": []
  }
 ],
 "metadata": {
  "kernelspec": {
   "display_name": "Python 3",
   "language": "python",
   "name": "python3"
  },
  "language_info": {
   "codemirror_mode": {
    "name": "ipython",
    "version": 3
   },
   "file_extension": ".py",
   "mimetype": "text/x-python",
   "name": "python",
   "nbconvert_exporter": "python",
   "pygments_lexer": "ipython3",
   "version": "3.6.7"
  }
 },
 "nbformat": 4,
 "nbformat_minor": 2
}
