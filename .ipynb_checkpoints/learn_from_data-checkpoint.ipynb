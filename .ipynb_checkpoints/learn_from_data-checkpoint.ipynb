{
 "cells": [
  {
   "cell_type": "code",
   "execution_count": 1,
   "metadata": {},
   "outputs": [],
   "source": [
    "import pandas as pd \n",
    "import numpy as np \n",
    "import os \n",
    "from sklearn import linear_model \n",
    "from sklearn.model_selection import train_test_split\n",
    "from sklearn import metrics\n",
    "from matplotlib import pyplot as plt "
   ]
  },
  {
   "cell_type": "code",
   "execution_count": 5,
   "metadata": {},
   "outputs": [
    {
     "name": "stdout",
     "output_type": "stream",
     "text": [
      "/mnt/c/Users/monta/Documents/hackED2019\n"
     ]
    }
   ],
   "source": [
    "cwd = os.getcwd()\n",
    "print(cwd)"
   ]
  },
  {
   "cell_type": "code",
   "execution_count": 4,
   "metadata": {},
   "outputs": [
    {
     "ename": "SyntaxError",
     "evalue": "invalid syntax (<ipython-input-4-e85665f730ce>, line 3)",
     "output_type": "error",
     "traceback": [
      "\u001b[0;36m  File \u001b[0;32m\"<ipython-input-4-e85665f730ce>\"\u001b[0;36m, line \u001b[0;32m3\u001b[0m\n\u001b[0;31m    training_data = pd.read_csv('/mnt/c/Users/monta/Documents/hackED2019/data/train.csv', columns = )\u001b[0m\n\u001b[0m                                                                                                    ^\u001b[0m\n\u001b[0;31mSyntaxError\u001b[0m\u001b[0;31m:\u001b[0m invalid syntax\n"
     ]
    }
   ],
   "source": []
  },
  {
   "cell_type": "code",
   "execution_count": 6,
   "metadata": {},
   "outputs": [
    {
     "ename": "NameError",
     "evalue": "name 'training_data' is not defined",
     "output_type": "error",
     "traceback": [
      "\u001b[0;31m---------------------------------------------------------------------------\u001b[0m",
      "\u001b[0;31mNameError\u001b[0m                                 Traceback (most recent call last)",
      "\u001b[0;32m<ipython-input-6-2f2b00aeba50>\u001b[0m in \u001b[0;36m<module>\u001b[0;34m()\u001b[0m\n\u001b[0;32m----> 1\u001b[0;31m \u001b[0mtraining_data\u001b[0m\u001b[0;34m.\u001b[0m\u001b[0mhead\u001b[0m\u001b[0;34m(\u001b[0m\u001b[0;34m)\u001b[0m\u001b[0;34m\u001b[0m\u001b[0;34m\u001b[0m\u001b[0m\n\u001b[0m",
      "\u001b[0;31mNameError\u001b[0m: name 'training_data' is not defined"
     ]
    }
   ],
   "source": [
    "training_data.head()"
   ]
  },
  {
   "cell_type": "code",
   "execution_count": 7,
   "metadata": {},
   "outputs": [],
   "source": [
    "# get all the columns of interest\n",
    "# Ideally get feature names as a string or list form the client \n",
    "\n",
    "feature_names = \"1stFlrSF 2ndFlrSF GrLivArea FullBath BedroomAbvGr Fireplaces HalfBath GarageArea PoolArea YrSold LotArea OverallQual OverallCond YearBuilt\"\n"
   ]
  },
  {
   "cell_type": "code",
   "execution_count": 8,
   "metadata": {},
   "outputs": [],
   "source": [
    "# add label to list of columns to retrieve. \n",
    "\"\"\"\n",
    "hard coded for now \n",
    "\"\"\"\n",
    "label_name = \"SalePrice\""
   ]
  },
  {
   "cell_type": "code",
   "execution_count": 9,
   "metadata": {},
   "outputs": [
    {
     "ename": "NameError",
     "evalue": "name 'training_data' is not defined",
     "output_type": "error",
     "traceback": [
      "\u001b[0;31m---------------------------------------------------------------------------\u001b[0m",
      "\u001b[0;31mNameError\u001b[0m                                 Traceback (most recent call last)",
      "\u001b[0;32m<ipython-input-9-979fd0bddeab>\u001b[0m in \u001b[0;36m<module>\u001b[0;34m()\u001b[0m\n\u001b[1;32m      2\u001b[0m \u001b[0;34m\u001b[0m\u001b[0m\n\u001b[1;32m      3\u001b[0m \u001b[0mcolumnsList\u001b[0m \u001b[0;34m=\u001b[0m \u001b[0mcolumns_to_retrieve\u001b[0m\u001b[0;34m.\u001b[0m\u001b[0msplit\u001b[0m\u001b[0;34m(\u001b[0m\u001b[0;34m\" \"\u001b[0m\u001b[0;34m)\u001b[0m\u001b[0;34m\u001b[0m\u001b[0;34m\u001b[0m\u001b[0m\n\u001b[0;32m----> 4\u001b[0;31m \u001b[0mfeatures_df\u001b[0m \u001b[0;34m=\u001b[0m \u001b[0mtraining_data\u001b[0m\u001b[0;34m[\u001b[0m\u001b[0mcolumnsList\u001b[0m\u001b[0;34m]\u001b[0m\u001b[0;34m\u001b[0m\u001b[0;34m\u001b[0m\u001b[0m\n\u001b[0m\u001b[1;32m      5\u001b[0m \u001b[0mfeatures_df\u001b[0m\u001b[0;34m.\u001b[0m\u001b[0mhead\u001b[0m\u001b[0;34m(\u001b[0m\u001b[0;34m)\u001b[0m\u001b[0;34m\u001b[0m\u001b[0;34m\u001b[0m\u001b[0m\n",
      "\u001b[0;31mNameError\u001b[0m: name 'training_data' is not defined"
     ]
    }
   ],
   "source": [
    "columns_to_retrieve = feature_names #### +  \" \" + label_name\n",
    "\n",
    "columnsList = columns_to_retrieve.split(\" \")\n",
    "features_df = training_data[columnsList]\n",
    "features_df.head()"
   ]
  },
  {
   "cell_type": "code",
   "execution_count": 10,
   "metadata": {},
   "outputs": [
    {
     "ename": "NameError",
     "evalue": "name 'training_data' is not defined",
     "output_type": "error",
     "traceback": [
      "\u001b[0;31m---------------------------------------------------------------------------\u001b[0m",
      "\u001b[0;31mNameError\u001b[0m                                 Traceback (most recent call last)",
      "\u001b[0;32m<ipython-input-10-c0e3cec44a44>\u001b[0m in \u001b[0;36m<module>\u001b[0;34m()\u001b[0m\n\u001b[1;32m      2\u001b[0m \u001b[0;34m\u001b[0m\u001b[0m\n\u001b[1;32m      3\u001b[0m \u001b[0;31m# use the value that the user picked as the label as our y\u001b[0m\u001b[0;34m\u001b[0m\u001b[0;34m\u001b[0m\u001b[0;34m\u001b[0m\u001b[0m\n\u001b[0;32m----> 4\u001b[0;31m \u001b[0my\u001b[0m \u001b[0;34m=\u001b[0m \u001b[0mtraining_data\u001b[0m\u001b[0;34m[\u001b[0m\u001b[0mlabel_name\u001b[0m\u001b[0;34m]\u001b[0m\u001b[0;34m\u001b[0m\u001b[0;34m\u001b[0m\u001b[0m\n\u001b[0m\u001b[1;32m      5\u001b[0m \u001b[0;34m\u001b[0m\u001b[0m\n\u001b[1;32m      6\u001b[0m \u001b[0;31m# split the data the user gave us into 70, 30 sets so that we can give them an indication of how accurate\u001b[0m\u001b[0;34m\u001b[0m\u001b[0;34m\u001b[0m\u001b[0;34m\u001b[0m\u001b[0m\n",
      "\u001b[0;31mNameError\u001b[0m: name 'training_data' is not defined"
     ]
    }
   ],
   "source": [
    "# want to use salePrice as validater\n",
    "\n",
    "# use the value that the user picked as the label as our y \n",
    "y = training_data[label_name]\n",
    "\n",
    "# split the data the user gave us into 70, 30 sets so that we can give them an indication of how accurate\n",
    "# the model is \n",
    "X_train, X_test, y_train, y_test = train_test_split(features_df, y, test_size=.3)\n",
    "\n",
    "\n",
    "\n",
    "print(X_train.shape, y_train.shape)\n",
    "print(X_test.shape, y_test.shape) \n",
    "\n"
   ]
  },
  {
   "cell_type": "code",
   "execution_count": 11,
   "metadata": {},
   "outputs": [
    {
     "ename": "NameError",
     "evalue": "name 'X_train' is not defined",
     "output_type": "error",
     "traceback": [
      "\u001b[0;31m---------------------------------------------------------------------------\u001b[0m",
      "\u001b[0;31mNameError\u001b[0m                                 Traceback (most recent call last)",
      "\u001b[0;32m<ipython-input-11-3fc391393401>\u001b[0m in \u001b[0;36m<module>\u001b[0;34m()\u001b[0m\n\u001b[1;32m      2\u001b[0m \u001b[0mlm\u001b[0m \u001b[0;34m=\u001b[0m \u001b[0mlinear_model\u001b[0m\u001b[0;34m.\u001b[0m\u001b[0mLinearRegression\u001b[0m\u001b[0;34m(\u001b[0m\u001b[0;34m)\u001b[0m\u001b[0;34m\u001b[0m\u001b[0;34m\u001b[0m\u001b[0m\n\u001b[1;32m      3\u001b[0m \u001b[0;34m\u001b[0m\u001b[0m\n\u001b[0;32m----> 4\u001b[0;31m \u001b[0mmodel\u001b[0m \u001b[0;34m=\u001b[0m \u001b[0mlm\u001b[0m\u001b[0;34m.\u001b[0m\u001b[0mfit\u001b[0m\u001b[0;34m(\u001b[0m\u001b[0mX_train\u001b[0m\u001b[0;34m,\u001b[0m \u001b[0my_train\u001b[0m\u001b[0;34m)\u001b[0m\u001b[0;34m\u001b[0m\u001b[0;34m\u001b[0m\u001b[0m\n\u001b[0m\u001b[1;32m      5\u001b[0m \u001b[0mpredictions\u001b[0m \u001b[0;34m=\u001b[0m \u001b[0mlm\u001b[0m\u001b[0;34m.\u001b[0m\u001b[0mpredict\u001b[0m\u001b[0;34m(\u001b[0m\u001b[0mX_test\u001b[0m\u001b[0;34m)\u001b[0m\u001b[0;34m\u001b[0m\u001b[0;34m\u001b[0m\u001b[0m\n",
      "\u001b[0;31mNameError\u001b[0m: name 'X_train' is not defined"
     ]
    }
   ],
   "source": [
    "# fit a model now \n",
    "lm = linear_model.LinearRegression()\n",
    "\n",
    "model = lm.fit(X_train, y_train)\n",
    "predictions = lm.predict(X_test)"
   ]
  },
  {
   "cell_type": "code",
   "execution_count": 57,
   "metadata": {},
   "outputs": [
    {
     "data": {
      "text/plain": [
       "Text(0, 0.5, 'Predictions')"
      ]
     },
     "execution_count": 57,
     "metadata": {},
     "output_type": "execute_result"
    },
    {
     "data": {
      "image/png": "[encoded data removed]",
      "text/plain": [
       "<Figure size 432x288 with 1 Axes>"
      ]
     },
     "metadata": {},
     "output_type": "display_data"
    }
   ],
   "source": [
    "## The line / model\n",
    "plt.scatter(y_test, predictions)\n",
    "plt.xlabel(\"True Values\")\n",
    "plt.ylabel(\"Predictions\")"
   ]
  },
  {
   "cell_type": "code",
   "execution_count": 58,
   "metadata": {},
   "outputs": [
    {
     "name": "stdout",
     "output_type": "stream",
     "text": [
      "Accuracy of model:  0.8071443012871472\n"
     ]
    }
   ],
   "source": [
    "\n",
    "print(\"Accuracy of model: \", model.score(X_test, y_test))"
   ]
  },
  {
   "cell_type": "code",
   "execution_count": 59,
   "metadata": {},
   "outputs": [
    {
     "data": {
      "text/html": [
       "<div>\n",
       "<style scoped>\n",
       "    .dataframe tbody tr th:only-of-type {\n",
       "        vertical-align: middle;\n",
       "    }\n",
       "\n",
       "    .dataframe tbody tr th {\n",
       "        vertical-align: top;\n",
       "    }\n",
       "\n",
       "    .dataframe thead th {\n",
       "        text-align: right;\n",
       "    }\n",
       "</style>\n",
       "<table border=\"1\" class=\"dataframe\">\n",
       "  <thead>\n",
       "    <tr style=\"text-align: right;\">\n",
       "      <th></th>\n",
       "      <th>1stFlrSF</th>\n",
       "      <th>2ndFlrSF</th>\n",
       "      <th>GrLivArea</th>\n",
       "      <th>FullBath</th>\n",
       "      <th>BedroomAbvGr</th>\n",
       "      <th>Fireplaces</th>\n",
       "      <th>HalfBath</th>\n",
       "      <th>GarageArea</th>\n",
       "      <th>PoolArea</th>\n",
       "      <th>YrSold</th>\n",
       "      <th>LotArea</th>\n",
       "      <th>OverallQual</th>\n",
       "      <th>OverallCond</th>\n",
       "      <th>YearBuilt</th>\n",
       "    </tr>\n",
       "  </thead>\n",
       "  <tbody>\n",
       "    <tr>\n",
       "      <th>1409</th>\n",
       "      <td>1236</td>\n",
       "      <td>857</td>\n",
       "      <td>2093</td>\n",
       "      <td>2</td>\n",
       "      <td>3</td>\n",
       "      <td>1</td>\n",
       "      <td>1</td>\n",
       "      <td>542</td>\n",
       "      <td>0</td>\n",
       "      <td>2008</td>\n",
       "      <td>20544</td>\n",
       "      <td>7</td>\n",
       "      <td>6</td>\n",
       "      <td>1986</td>\n",
       "    </tr>\n",
       "    <tr>\n",
       "      <th>859</th>\n",
       "      <td>1512</td>\n",
       "      <td>1142</td>\n",
       "      <td>2654</td>\n",
       "      <td>2</td>\n",
       "      <td>4</td>\n",
       "      <td>1</td>\n",
       "      <td>1</td>\n",
       "      <td>619</td>\n",
       "      <td>0</td>\n",
       "      <td>2006</td>\n",
       "      <td>11029</td>\n",
       "      <td>6</td>\n",
       "      <td>7</td>\n",
       "      <td>1968</td>\n",
       "    </tr>\n",
       "    <tr>\n",
       "      <th>676</th>\n",
       "      <td>1095</td>\n",
       "      <td>679</td>\n",
       "      <td>1774</td>\n",
       "      <td>2</td>\n",
       "      <td>4</td>\n",
       "      <td>0</td>\n",
       "      <td>0</td>\n",
       "      <td>779</td>\n",
       "      <td>0</td>\n",
       "      <td>2006</td>\n",
       "      <td>9600</td>\n",
       "      <td>4</td>\n",
       "      <td>2</td>\n",
       "      <td>1900</td>\n",
       "    </tr>\n",
       "    <tr>\n",
       "      <th>1340</th>\n",
       "      <td>872</td>\n",
       "      <td>0</td>\n",
       "      <td>872</td>\n",
       "      <td>1</td>\n",
       "      <td>3</td>\n",
       "      <td>0</td>\n",
       "      <td>0</td>\n",
       "      <td>480</td>\n",
       "      <td>0</td>\n",
       "      <td>2007</td>\n",
       "      <td>8294</td>\n",
       "      <td>4</td>\n",
       "      <td>5</td>\n",
       "      <td>1971</td>\n",
       "    </tr>\n",
       "    <tr>\n",
       "      <th>468</th>\n",
       "      <td>1634</td>\n",
       "      <td>0</td>\n",
       "      <td>1634</td>\n",
       "      <td>2</td>\n",
       "      <td>3</td>\n",
       "      <td>1</td>\n",
       "      <td>0</td>\n",
       "      <td>866</td>\n",
       "      <td>0</td>\n",
       "      <td>2007</td>\n",
       "      <td>11428</td>\n",
       "      <td>8</td>\n",
       "      <td>5</td>\n",
       "      <td>2006</td>\n",
       "    </tr>\n",
       "  </tbody>\n",
       "</table>\n",
       "</div>"
      ],
      "text/plain": [
       "      1stFlrSF  2ndFlrSF  GrLivArea  FullBath  BedroomAbvGr  Fireplaces  \\\n",
       "1409      1236       857       2093         2             3           1   \n",
       "859       1512      1142       2654         2             4           1   \n",
       "676       1095       679       1774         2             4           0   \n",
       "1340       872         0        872         1             3           0   \n",
       "468       1634         0       1634         2             3           1   \n",
       "\n",
       "      HalfBath  GarageArea  PoolArea  YrSold  LotArea  OverallQual  \\\n",
       "1409         1         542         0    2008    20544            7   \n",
       "859          1         619         0    2006    11029            6   \n",
       "676          0         779         0    2006     9600            4   \n",
       "1340         0         480         0    2007     8294            4   \n",
       "468          0         866         0    2007    11428            8   \n",
       "\n",
       "      OverallCond  YearBuilt  \n",
       "1409            6       1986  \n",
       "859             7       1968  \n",
       "676             2       1900  \n",
       "1340            5       1971  \n",
       "468             5       2006  "
      ]
     },
     "execution_count": 59,
     "metadata": {},
     "output_type": "execute_result"
    }
   ],
   "source": [
    "\n",
    "X_test.head()"
   ]
  },
  {
   "cell_type": "code",
   "execution_count": null,
   "metadata": {},
   "outputs": [],
   "source": []
  },
  {
   "cell_type": "code",
   "execution_count": 12,
   "metadata": {},
   "outputs": [],
   "source": [
    "# \n",
    "\"\"\"\n",
    "\n",
    "return: DF, DF , DF , DF \n",
    "\"\"\"\n",
    "def split_lm_data(all_data, feature_names, label_name):\n",
    "    columnsList = feature_names.split(\" \")\n",
    "    features_df = all_data[columnsList]\n",
    "    label_df = all_data[label_name]\n",
    "    \n",
    "    X_train, X_test, y_train, y_test = train_test_split(features_df, , test_size=.3)\n",
    "    return (X_train, X_test, y_train, y_test)\n",
    "\n",
    "\n",
    "\n",
    "\n",
    "    "
   ]
  },
  {
   "cell_type": "code",
   "execution_count": 13,
   "metadata": {},
   "outputs": [],
   "source": [
    "\"\"\"\n",
    "\n",
    "return: (model, accuracy)\n",
    "\"\"\"\n",
    "def fit_linear_model(X_train, X_test, y_train, y_test):\n",
    "    lm = linear_model.LinearRegression()\n",
    "\n",
    "    model = lm.fit(X_train, y_train)\n",
    "    accuracy = model.score(X_test, y_test)\n",
    "    return (model, accuracy)"
   ]
  },
  {
   "cell_type": "code",
   "execution_count": null,
   "metadata": {},
   "outputs": [],
   "source": []
  },
  {
   "cell_type": "code",
   "execution_count": 14,
   "metadata": {},
   "outputs": [
    {
     "ename": "NameError",
     "evalue": "name 'y' is not defined",
     "output_type": "error",
     "traceback": [
      "\u001b[0;31m---------------------------------------------------------------------------\u001b[0m",
      "\u001b[0;31mNameError\u001b[0m                                 Traceback (most recent call last)",
      "\u001b[0;32m<ipython-input-14-21e35170cbb8>\u001b[0m in \u001b[0;36m<module>\u001b[0;34m()\u001b[0m\n\u001b[1;32m      3\u001b[0m \u001b[0mlabel_name\u001b[0m \u001b[0;34m=\u001b[0m \u001b[0;34m\"SalePrice\"\u001b[0m\u001b[0;34m\u001b[0m\u001b[0;34m\u001b[0m\u001b[0m\n\u001b[1;32m      4\u001b[0m \u001b[0;34m\u001b[0m\u001b[0m\n\u001b[0;32m----> 5\u001b[0;31m \u001b[0mX_train\u001b[0m\u001b[0;34m,\u001b[0m \u001b[0mX_test\u001b[0m\u001b[0;34m,\u001b[0m \u001b[0my_train\u001b[0m\u001b[0;34m,\u001b[0m \u001b[0my_test\u001b[0m \u001b[0;34m=\u001b[0m \u001b[0msplit_lm_data\u001b[0m\u001b[0;34m(\u001b[0m\u001b[0mtraining_data\u001b[0m\u001b[0;34m,\u001b[0m \u001b[0mfeature_names\u001b[0m\u001b[0;34m,\u001b[0m \u001b[0mlabel_name\u001b[0m\u001b[0;34m)\u001b[0m\u001b[0;34m\u001b[0m\u001b[0;34m\u001b[0m\u001b[0m\n\u001b[0m\u001b[1;32m      6\u001b[0m \u001b[0;34m\u001b[0m\u001b[0m\n\u001b[1;32m      7\u001b[0m \u001b[0mlm\u001b[0m\u001b[0;34m,\u001b[0m \u001b[0mmodel\u001b[0m\u001b[0;34m,\u001b[0m \u001b[0maccuracy\u001b[0m \u001b[0;34m=\u001b[0m \u001b[0mfit_linear_model\u001b[0m\u001b[0;34m(\u001b[0m\u001b[0mX_train\u001b[0m\u001b[0;34m,\u001b[0m \u001b[0mX_test\u001b[0m\u001b[0;34m,\u001b[0m \u001b[0my_train\u001b[0m\u001b[0;34m,\u001b[0m \u001b[0my_test\u001b[0m\u001b[0;34m)\u001b[0m\u001b[0;34m\u001b[0m\u001b[0;34m\u001b[0m\u001b[0m\n",
      "\u001b[0;32m<ipython-input-12-c878583103f0>\u001b[0m in \u001b[0;36msplit_lm_data\u001b[0;34m(all_data, feature_names, label_name)\u001b[0m\n\u001b[1;32m      9\u001b[0m     \u001b[0mlabel_df\u001b[0m \u001b[0;34m=\u001b[0m \u001b[0mall_data\u001b[0m\u001b[0;34m[\u001b[0m\u001b[0mlabel_name\u001b[0m\u001b[0;34m]\u001b[0m\u001b[0;34m\u001b[0m\u001b[0;34m\u001b[0m\u001b[0m\n\u001b[1;32m     10\u001b[0m \u001b[0;34m\u001b[0m\u001b[0m\n\u001b[0;32m---> 11\u001b[0;31m     \u001b[0mX_train\u001b[0m\u001b[0;34m,\u001b[0m \u001b[0mX_test\u001b[0m\u001b[0;34m,\u001b[0m \u001b[0my_train\u001b[0m\u001b[0;34m,\u001b[0m \u001b[0my_test\u001b[0m \u001b[0;34m=\u001b[0m \u001b[0mtrain_test_split\u001b[0m\u001b[0;34m(\u001b[0m\u001b[0mfeatures_df\u001b[0m\u001b[0;34m,\u001b[0m \u001b[0my\u001b[0m\u001b[0;34m,\u001b[0m \u001b[0mtest_size\u001b[0m\u001b[0;34m=\u001b[0m\u001b[0;36m.3\u001b[0m\u001b[0;34m)\u001b[0m\u001b[0;34m\u001b[0m\u001b[0;34m\u001b[0m\u001b[0m\n\u001b[0m\u001b[1;32m     12\u001b[0m     \u001b[0;32mreturn\u001b[0m \u001b[0;34m(\u001b[0m\u001b[0mX_train\u001b[0m\u001b[0;34m,\u001b[0m \u001b[0mX_test\u001b[0m\u001b[0;34m,\u001b[0m \u001b[0my_train\u001b[0m\u001b[0;34m,\u001b[0m \u001b[0my_test\u001b[0m\u001b[0;34m)\u001b[0m\u001b[0;34m\u001b[0m\u001b[0;34m\u001b[0m\u001b[0m\n\u001b[1;32m     13\u001b[0m \u001b[0;34m\u001b[0m\u001b[0m\n",
      "\u001b[0;31mNameError\u001b[0m: name 'y' is not defined"
     ]
    }
   ],
   "source": [
    "training_data = pd.read_csv('/mnt/c/Users/monta/Documents/hackED2019/data/train.csv' )\n",
    "feature_names = \"1stFlrSF 2ndFlrSF GrLivArea FullBath BedroomAbvGr Fireplaces HalfBath GarageArea PoolArea YrSold LotArea OverallQual OverallCond YearBuilt\"\n",
    "label_name = \"SalePrice\" \n",
    "\n",
    "X_train, X_test, y_train, y_test = split_lm_data(training_data, feature_names, label_name)\n",
    "\n",
    "lm, model, accuracy = fit_linear_model(X_train, X_test, y_train, y_test)\n",
    "print(\"accuracy: \" , accuracy)"
   ]
  },
  {
   "cell_type": "code",
   "execution_count": 78,
   "metadata": {},
   "outputs": [],
   "source": [
    "def make_predictions(model, data):\n",
    "    return model.predict(data)"
   ]
  },
  {
   "cell_type": "code",
   "execution_count": 74,
   "metadata": {},
   "outputs": [
    {
     "data": {
      "text/plain": [
       "array([124486.34813495, 166729.27523193, 100194.93314991, 141209.99728138,\n",
       "       113180.75665155, 232103.33379634, 236539.36596501, 134427.85941573,\n",
       "       103740.34179578, 167842.20679103, 124599.53781933, 258587.85812876,\n",
       "       119486.88957331, 229377.01946429, 182774.01241607, 157054.32378284,\n",
       "       207691.24753284, 125312.47289019, 138111.11952925, 256770.69153083,\n",
       "       133462.47129663, 230907.37364145, 276950.75684542, 100589.56469057,\n",
       "       185835.28880923, 131582.72466861, 153818.9333341 , 305657.91091106,\n",
       "       262419.31582466,  63493.1574275 , 348409.04500209, 178349.99195241,\n",
       "       177025.34728706, 243470.16031444, 260047.49838155, 285816.21007132,\n",
       "       207978.03686074, 143837.23002853, 304524.11944848, 338695.50135558,\n",
       "       110945.1278941 , 246456.24388142, 138510.68331413, 136619.8745743 ,\n",
       "       251948.28961169, 160619.42100121, 163036.78388939, 196638.32581159,\n",
       "       168979.28032954,  64875.98568484, 171170.99809333, 208193.44732398,\n",
       "       144002.91091166,  94151.51219964, 157178.8621737 , 111596.56059111,\n",
       "       231209.86314066, 101117.66167005, 221180.01116619, 117321.17759774,\n",
       "       175947.15769784, 219918.7296964 , 183298.14061153, 367981.1887538 ,\n",
       "        73904.97095013, 125282.28919852, 121342.9284187 , 227944.29640371,\n",
       "       262162.82573377, 146913.42337045, 275527.64347512, 163522.14603715,\n",
       "       161974.43274184, 208338.80185456, 139903.30842316, 273719.86948119,\n",
       "        52828.38152091, 141158.54544949, 223119.91340468, 103072.66307395,\n",
       "       104859.98817109, 271055.24931923, 268179.39698205, 194611.75696892,\n",
       "       178600.4208466 , 243555.52843622, 212725.21883367, 234285.64288422,\n",
       "       187231.40444333, 236324.88600901, 233381.86058519, 198889.8723221 ,\n",
       "       288136.74998194, 185261.52320507, 153718.75978497, 165999.11410329,\n",
       "       114882.27976246, 248642.2137726 , 201220.03200475,  94771.96736785,\n",
       "        99983.95213196, 110447.62119657, 117016.3818994 , 105964.14224175,\n",
       "       204144.87721561, 235610.38420855, 154321.33719998, 131466.71293089,\n",
       "       177751.15593996,  96954.93332809, 157656.57438296, 123913.51249435,\n",
       "       125135.644576  , 188118.21228686, 246045.82771367, 245449.79796784,\n",
       "       174175.01741618,  79071.2598584 , 270088.25143909, 122256.73995126,\n",
       "       127083.52052911, 206336.19897999, 233450.39389196, 209483.95729314,\n",
       "       217732.76343262, 158203.84076558, 141298.28445597, 164199.08272531,\n",
       "       229223.70495091, 318433.1574062 , 201219.32502807,  84178.16650835,\n",
       "       -25881.62111283, 143341.95748367, 143632.45714841, 236906.91921121,\n",
       "       130615.77594724, 120864.84429799, 237393.6993901 , 269077.39180581,\n",
       "       130934.64718966, 145024.21269441, 180980.29624641, 177209.20932295,\n",
       "       157443.63557174, 231674.96548882, 155120.58240543,  97830.64678414,\n",
       "       142427.42571875, 125938.67496007, 262193.11567662, 179492.0508056 ,\n",
       "       182009.0339231 , 130539.12610986, 227542.5500373 ,  48995.4610172 ,\n",
       "       170719.50313827, 105941.1975042 , 191012.16084459, 182839.70425085,\n",
       "       195126.50808552, 116848.17356972, 166102.22654585, 236662.91578812,\n",
       "       271224.14001542, 132798.85629163, 259306.79206477,  64419.06882827,\n",
       "       182047.67345005, 262344.13788215, 188165.57349807, 125585.24465228,\n",
       "       299256.03131077, 273627.96958031, 121993.41177217, 140516.35278389,\n",
       "       129430.84142716, 133156.27930236, 120646.02738851, 200670.55434315,\n",
       "       181985.40168067,  97732.39237943, 273042.49813102, 263383.31509257,\n",
       "       200925.3648909 , 114307.48182923, 117823.98352987, 264420.40275669,\n",
       "       120377.99054063, 141278.64629292, 241714.14329218,  31291.10124275,\n",
       "       102580.31341807, 182850.41194916, 213508.10381121, 168120.06197105,\n",
       "       150725.12132909, 125530.37206301, 210821.94135791,  75011.5878614 ,\n",
       "       371330.58029224, 224012.353428  , 197235.72566414, 149222.5021086 ,\n",
       "       148205.78531592, 146741.24783845, 137481.16903424, 363610.03053833,\n",
       "       173085.42036872, 292259.14313187, 279089.11375644, 171497.26216277,\n",
       "       180417.84997077, 164392.74250209, 234599.80452855, 282887.50000057,\n",
       "       244731.36246762,  95653.8302138 , 122222.77049826, 228825.63912185,\n",
       "       212294.06218584,  76839.51509873, 209760.28247615, 255435.29323099,\n",
       "       210712.9556667 ,  44229.60978181, 337883.94119135, 144181.84079728,\n",
       "       167259.24627155, 187084.24814023, 110335.39270381, 299799.66881928,\n",
       "       264011.57740525, 138333.77696549, 219356.99383151, 247204.38134587,\n",
       "       301744.74029636, 111359.78025169, 285408.81791851, 274348.02049448,\n",
       "       146449.04746712, 150531.46513367, 159935.84809676, 203820.99781906,\n",
       "       130380.07602509, 238006.50174408, 164817.72021955,  90944.98053816,\n",
       "       233567.01941475, 188705.83813883, 108390.32931698, 162820.20084334,\n",
       "       111771.9446663 , 137964.6838929 , 145660.70692893, 138434.29122446,\n",
       "       179527.93906054, 275967.77846781, 129705.21941897, 122238.31170439,\n",
       "       124437.96897149,  97958.00331416, 149930.73002576, 312738.57395507,\n",
       "       134894.87717662, 252570.61421917, 277946.66642494, 200300.33144675,\n",
       "        59902.49988733,  65972.31538516, 258796.41430754, 116368.15067016,\n",
       "        49833.37657003, 138925.54071041, 186496.14020733, 221260.52197352,\n",
       "       171350.05959101, 226753.92150926, 113628.23627316, 169308.59862675,\n",
       "       200835.28464626, 182435.72482429, 179579.33738847,  98139.97976963,\n",
       "       273619.89827214, 210475.73534621, 118126.91182246, 126997.53974607,\n",
       "       196830.12668927, 241051.50551458, 118857.32688105, 241703.14558   ,\n",
       "        67798.02023323, 198008.62463302, 321708.87976805, 204749.8683766 ,\n",
       "       174210.98537381, 173842.08591061, 259855.11283075, 202802.92034342,\n",
       "       152761.94176059,  -8254.90462428, 145555.51482131, 288577.94351722,\n",
       "       111186.79867954, 113224.90804595, 209830.90746119, 305286.87056232,\n",
       "       349926.95661462, 120942.6668461 ,  28897.12439401, 184527.96561823,\n",
       "       193550.14041515, 107517.55874443, 333633.63284585, 358033.69455349,\n",
       "       106458.94696822, 229459.24423061, 211409.49456515, 229261.68774686,\n",
       "       118926.2142751 , 179584.64516598, 100982.64121565, 124548.89196333,\n",
       "       195792.8112601 , 146896.08579524,  58715.09062928, 172508.17513584,\n",
       "       110184.61444082, -49080.82852249, 113277.01582548, 141789.72562403,\n",
       "       101864.83890237,  80648.23725175, 355594.83993183,  98495.69738128,\n",
       "       212856.0768763 , 115698.83816683, 190511.60691135, 218137.7525093 ,\n",
       "       167290.76449232, 138112.37967306, 164359.25481198, 212653.13469488,\n",
       "       104590.94267483, 294633.12325205, 141880.21761731, 164558.6526811 ,\n",
       "       148862.38134591, 233020.05317458, 237408.24943964, 158504.53558075,\n",
       "       167641.31940101, 114414.79820347, 352484.33880849, 162348.77543526,\n",
       "       198857.40068633, 204529.69486865, 215366.50218167, 240834.95201093,\n",
       "        99633.09528919, 105931.06795234, 241688.11944663, 257060.07774125,\n",
       "       160916.11651416, 123219.54322707, 213555.28960338, 113823.77749303,\n",
       "       237388.23901071,  89025.64196573, 168544.14474025, 176192.93282862,\n",
       "       161372.15479325, 191259.04009421, 160417.00355128, 192405.28865004,\n",
       "       199416.26639127, 221492.94536435, 210091.60452633, 155959.21180691,\n",
       "       170036.43360363, 110594.29527184, 315390.44250512, 250491.79400597,\n",
       "       154773.85110431, 150914.53890846, 147283.09603564, 164933.56703816,\n",
       "        75211.49887154, 163606.59377191, 180086.06885056, 275545.45350109,\n",
       "       112547.28419407, 154639.1559739 , 176470.0548334 , 180554.35436182,\n",
       "       123969.40544147, 210380.54261501, 180767.73744111, 174961.54760848,\n",
       "       182132.90907842, 247024.08733609, 244370.41102553, 175996.17827176,\n",
       "       164226.31917463, 132631.03253178, 161557.58274469, 291804.05488881,\n",
       "       104354.36477737, 223273.6390852 , 114365.80044736, 191476.40787555,\n",
       "       108486.29837507, 143085.81548341, 180271.305418  , 296571.53827108,\n",
       "       173406.06063478, 164516.16224014, 155965.50976228, 127625.16675569,\n",
       "       241457.41391035, 153513.90412913,  64380.50983522, 120675.71608051,\n",
       "       153085.21557921, 111857.9314199 , 175846.38427311, 220002.38173266,\n",
       "        74258.13347523, 177250.08348628, 212708.46804998, 208452.00439016,\n",
       "        72952.6031375 , 221711.38475653, 212501.81155178, 177092.94036598,\n",
       "       141363.40508689, 157687.11996819])"
      ]
     },
     "execution_count": 74,
     "metadata": {},
     "output_type": "execute_result"
    }
   ],
   "source": [
    "lm.predict(X_test)"
   ]
  },
  {
   "cell_type": "code",
   "execution_count": 81,
   "metadata": {},
   "outputs": [],
   "source": [
    "########################################### LOGISTIC REGRESSION\n",
    "import pandas as pd \n",
    "import numpy as np \n",
    "import os \n",
    "from sklearn.linear_model import LogisticRegression\n",
    "from sklearn.model_selection import train_test_split\n",
    "from sklearn import metrics\n",
    "from matplotlib import pyplot as plt "
   ]
  },
  {
   "cell_type": "code",
   "execution_count": 113,
   "metadata": {},
   "outputs": [],
   "source": [
    "\n",
    "\n",
    "\n",
    "import pandas as pd\n",
    "import csv\n",
    "from sklearn import linear_model\n",
    "from sklearn.model_selection import train_test_split\n",
    "from sklearn import metrics\n",
    "from sklearn.metrics import mean_absolute_error, accuracy_score\n",
    "\n",
    "\n",
    "def process_file(features, label, file):\n",
    "\n",
    "    # convert comma seperated list of features to list\n",
    "    feature_list = features.split(',')\n",
    "\n",
    "    # read training csv into pandas\n",
    "    training_data = pd.read_csv(file)\n",
    "\n",
    "    # data frame containing features\n",
    "    features_df = training_data[feature_list]\n",
    "\n",
    "    # label name of what we are trying to predicts\n",
    "    label_name = label\n",
    "\n",
    "    y = training_data[label_name]\n",
    "\n",
    "    # split the data the user gave us into 70, 30 sets so that we can give them an indication of how accurate\n",
    "    # the model is\n",
    "    # x_train is 70% of our feature rows\n",
    "    # x_test is 30% of our feature rows\n",
    "    # y_train is 70% of our label rows\n",
    "    # y_test is 30% of our label rows\n",
    "    x_train, x_test, y_train, y_test = train_test_split(features_df, y, test_size=.3)\n",
    "\n",
    "    lm = linear_model.LinearRegression()\n",
    "\n",
    "    model = lm.fit(x_train, y_train)\n",
    "    predictions = model.predict(x_test)\n",
    "    #x_test.SalePrice\n",
    "    #print(predictions)\n",
    "    print(model.score(x_test, y_test) *100, \"%  of the variations in \" , label , \" can be can be explained by the \", label, \"\\'s relationship with the predictors you selected  \" )\n",
    "    \n",
    "    print(type(y_test.as_matrix(columns=None)), type(predictions))\n",
    "    mean_error = mean_absolute_error(y_test, predictions)\n",
    "    #print('Model mean absolute error:', mean_error)\n",
    "    print('Mean price:', sum(y_test)/len(y_test), len(y_test))\n",
    "    #print('mean error % mean price:', mean_error/(sum(y_test)/len(y_test)) )\n",
    "    print('Based on this definition, the accuracy is: ', (1- (mean_error/(sum(y_test)/len(y_test))))*100 , '%')\n",
    "    return (model,x_test,predictions) \n",
    "    #print(\"%s %s %s %s\" % (x_train, x_test, y_train, y_test))"
   ]
  },
  {
   "cell_type": "code",
   "execution_count": 114,
   "metadata": {},
   "outputs": [],
   "source": [
    "training_data = pd.read_csv('/mnt/c/Users/monta/Documents/hackED2019/data/train.csv' )\n",
    "feature_names = \"1stFlrSF,2ndFlrSF,GrLivArea,FullBath,BedroomAbvGr,Fireplaces,HalfBath,GarageArea,PoolArea,YrSold,LotArea,OverallQual,OverallCond,YearBuilt\"\n",
    "label_name = \"SalePrice\" "
   ]
  },
  {
   "cell_type": "code",
   "execution_count": 115,
   "metadata": {},
   "outputs": [
    {
     "name": "stdout",
     "output_type": "stream",
     "text": [
      "81.58156977635126 %  of the variations in  SalePrice  can be can be explained by the  SalePrice 's relationship with the predictors you selected  \n",
      "<class 'numpy.ndarray'> <class 'numpy.ndarray'>\n",
      "Model mean absolute error: 22648.59804885357\n",
      "Mean price: 184160.700913242 438\n",
      "mean error % mean price: 0.12298279674512812\n",
      "Based on this definition, the accuracy is:  87.70172032548719 %\n"
     ]
    },
    {
     "name": "stderr",
     "output_type": "stream",
     "text": [
      "/usr/lib/python3/dist-packages/ipykernel_launcher.py:44: FutureWarning: Method .as_matrix will be removed in a future version. Use .values instead.\n"
     ]
    }
   ],
   "source": [
    "file = '/mnt/c/Users/monta/Documents/hackED2019/data/train.csv'\n",
    "model, x_test, predictions = process_file(feature_names, label_name, file)\n"
   ]
  },
  {
   "cell_type": "code",
   "execution_count": 53,
   "metadata": {},
   "outputs": [
    {
     "data": {
      "text/html": [
       "<div>\n",
       "<style scoped>\n",
       "    .dataframe tbody tr th:only-of-type {\n",
       "        vertical-align: middle;\n",
       "    }\n",
       "\n",
       "    .dataframe tbody tr th {\n",
       "        vertical-align: top;\n",
       "    }\n",
       "\n",
       "    .dataframe thead th {\n",
       "        text-align: right;\n",
       "    }\n",
       "</style>\n",
       "<table border=\"1\" class=\"dataframe\">\n",
       "  <thead>\n",
       "    <tr style=\"text-align: right;\">\n",
       "      <th></th>\n",
       "      <th>1stFlrSF</th>\n",
       "      <th>2ndFlrSF</th>\n",
       "      <th>GrLivArea</th>\n",
       "      <th>FullBath</th>\n",
       "      <th>BedroomAbvGr</th>\n",
       "      <th>Fireplaces</th>\n",
       "      <th>HalfBath</th>\n",
       "      <th>GarageArea</th>\n",
       "      <th>PoolArea</th>\n",
       "      <th>YrSold</th>\n",
       "      <th>LotArea</th>\n",
       "      <th>OverallQual</th>\n",
       "      <th>OverallCond</th>\n",
       "      <th>YearBuilt</th>\n",
       "    </tr>\n",
       "  </thead>\n",
       "  <tbody>\n",
       "    <tr>\n",
       "      <th>131</th>\n",
       "      <td>1022</td>\n",
       "      <td>1032</td>\n",
       "      <td>2054</td>\n",
       "      <td>2</td>\n",
       "      <td>3</td>\n",
       "      <td>1</td>\n",
       "      <td>1</td>\n",
       "      <td>390</td>\n",
       "      <td>0</td>\n",
       "      <td>2009</td>\n",
       "      <td>12224</td>\n",
       "      <td>6</td>\n",
       "      <td>5</td>\n",
       "      <td>2000</td>\n",
       "    </tr>\n",
       "    <tr>\n",
       "      <th>11</th>\n",
       "      <td>1182</td>\n",
       "      <td>1142</td>\n",
       "      <td>2324</td>\n",
       "      <td>3</td>\n",
       "      <td>4</td>\n",
       "      <td>2</td>\n",
       "      <td>0</td>\n",
       "      <td>736</td>\n",
       "      <td>0</td>\n",
       "      <td>2006</td>\n",
       "      <td>11924</td>\n",
       "      <td>9</td>\n",
       "      <td>5</td>\n",
       "      <td>2005</td>\n",
       "    </tr>\n",
       "    <tr>\n",
       "      <th>1363</th>\n",
       "      <td>616</td>\n",
       "      <td>796</td>\n",
       "      <td>1412</td>\n",
       "      <td>2</td>\n",
       "      <td>3</td>\n",
       "      <td>1</td>\n",
       "      <td>1</td>\n",
       "      <td>432</td>\n",
       "      <td>0</td>\n",
       "      <td>2007</td>\n",
       "      <td>8499</td>\n",
       "      <td>6</td>\n",
       "      <td>5</td>\n",
       "      <td>2006</td>\n",
       "    </tr>\n",
       "    <tr>\n",
       "      <th>844</th>\n",
       "      <td>876</td>\n",
       "      <td>540</td>\n",
       "      <td>1416</td>\n",
       "      <td>1</td>\n",
       "      <td>4</td>\n",
       "      <td>1</td>\n",
       "      <td>1</td>\n",
       "      <td>720</td>\n",
       "      <td>0</td>\n",
       "      <td>2008</td>\n",
       "      <td>12665</td>\n",
       "      <td>5</td>\n",
       "      <td>8</td>\n",
       "      <td>1915</td>\n",
       "    </tr>\n",
       "    <tr>\n",
       "      <th>1447</th>\n",
       "      <td>1220</td>\n",
       "      <td>870</td>\n",
       "      <td>2090</td>\n",
       "      <td>2</td>\n",
       "      <td>3</td>\n",
       "      <td>1</td>\n",
       "      <td>1</td>\n",
       "      <td>556</td>\n",
       "      <td>0</td>\n",
       "      <td>2007</td>\n",
       "      <td>10000</td>\n",
       "      <td>8</td>\n",
       "      <td>5</td>\n",
       "      <td>1995</td>\n",
       "    </tr>\n",
       "  </tbody>\n",
       "</table>\n",
       "</div>"
      ],
      "text/plain": [
       "      1stFlrSF  2ndFlrSF  GrLivArea  FullBath  BedroomAbvGr  Fireplaces  \\\n",
       "131       1022      1032       2054         2             3           1   \n",
       "11        1182      1142       2324         3             4           2   \n",
       "1363       616       796       1412         2             3           1   \n",
       "844        876       540       1416         1             4           1   \n",
       "1447      1220       870       2090         2             3           1   \n",
       "\n",
       "      HalfBath  GarageArea  PoolArea  YrSold  LotArea  OverallQual  \\\n",
       "131          1         390         0    2009    12224            6   \n",
       "11           0         736         0    2006    11924            9   \n",
       "1363         1         432         0    2007     8499            6   \n",
       "844          1         720         0    2008    12665            5   \n",
       "1447         1         556         0    2007    10000            8   \n",
       "\n",
       "      OverallCond  YearBuilt  \n",
       "131             5       2000  \n",
       "11              5       2005  \n",
       "1363            5       2006  \n",
       "844             8       1915  \n",
       "1447            5       1995  "
      ]
     },
     "execution_count": 53,
     "metadata": {},
     "output_type": "execute_result"
    }
   ],
   "source": [
    "x_test.head()"
   ]
  },
  {
   "cell_type": "code",
   "execution_count": 57,
   "metadata": {},
   "outputs": [],
   "source": [
    "new_data = [[702,779,1481,2,3,1,1,343,0,2009,8125,6,5,1994]]\n",
    "new_data = [[1022,1032,2054,2,3,1,1,390,0,2009,12224,6,5,2000]]"
   ]
  },
  {
   "cell_type": "code",
   "execution_count": 58,
   "metadata": {},
   "outputs": [
    {
     "name": "stdout",
     "output_type": "stream",
     "text": [
      "[214825.67304843]\n"
     ]
    },
    {
     "data": {
      "text/plain": [
       "214825.6730484264"
      ]
     },
     "execution_count": 58,
     "metadata": {},
     "output_type": "execute_result"
    }
   ],
   "source": [
    "print(model.predict(new_data))\n",
    "predictions[0]"
   ]
  },
  {
   "cell_type": "code",
   "execution_count": null,
   "metadata": {},
   "outputs": [],
   "source": [
    "from sklearn.metrics import accuracy_score"
   ]
  },
  {
   "cell_type": "code",
   "execution_count": 35,
   "metadata": {},
   "outputs": [],
   "source": [
    "entire_data = pd.read_csv(file)"
   ]
  },
  {
   "cell_type": "code",
   "execution_count": 42,
   "metadata": {},
   "outputs": [
    {
     "data": {
      "text/html": [
       "<div>\n",
       "<style scoped>\n",
       "    .dataframe tbody tr th:only-of-type {\n",
       "        vertical-align: middle;\n",
       "    }\n",
       "\n",
       "    .dataframe tbody tr th {\n",
       "        vertical-align: top;\n",
       "    }\n",
       "\n",
       "    .dataframe thead th {\n",
       "        text-align: right;\n",
       "    }\n",
       "</style>\n",
       "<table border=\"1\" class=\"dataframe\">\n",
       "  <thead>\n",
       "    <tr style=\"text-align: right;\">\n",
       "      <th></th>\n",
       "      <th>Id</th>\n",
       "      <th>MSSubClass</th>\n",
       "      <th>MSZoning</th>\n",
       "      <th>LotFrontage</th>\n",
       "      <th>LotArea</th>\n",
       "      <th>Street</th>\n",
       "      <th>Alley</th>\n",
       "      <th>LotShape</th>\n",
       "      <th>LandContour</th>\n",
       "      <th>Utilities</th>\n",
       "      <th>...</th>\n",
       "      <th>PoolArea</th>\n",
       "      <th>PoolQC</th>\n",
       "      <th>Fence</th>\n",
       "      <th>MiscFeature</th>\n",
       "      <th>MiscVal</th>\n",
       "      <th>MoSold</th>\n",
       "      <th>YrSold</th>\n",
       "      <th>SaleType</th>\n",
       "      <th>SaleCondition</th>\n",
       "      <th>SalePrice</th>\n",
       "    </tr>\n",
       "  </thead>\n",
       "  <tbody>\n",
       "    <tr>\n",
       "      <th>857</th>\n",
       "      <td>858</td>\n",
       "      <td>60</td>\n",
       "      <td>RL</td>\n",
       "      <td>65.0</td>\n",
       "      <td>8125</td>\n",
       "      <td>Pave</td>\n",
       "      <td>NaN</td>\n",
       "      <td>Reg</td>\n",
       "      <td>Lvl</td>\n",
       "      <td>AllPub</td>\n",
       "      <td>...</td>\n",
       "      <td>0</td>\n",
       "      <td>NaN</td>\n",
       "      <td>NaN</td>\n",
       "      <td>NaN</td>\n",
       "      <td>0</td>\n",
       "      <td>3</td>\n",
       "      <td>2009</td>\n",
       "      <td>WD</td>\n",
       "      <td>Normal</td>\n",
       "      <td>174000</td>\n",
       "    </tr>\n",
       "  </tbody>\n",
       "</table>\n",
       "<p>1 rows × 81 columns</p>\n",
       "</div>"
      ],
      "text/plain": [
       "      Id  MSSubClass MSZoning  LotFrontage  LotArea Street Alley LotShape  \\\n",
       "857  858          60       RL         65.0     8125   Pave   NaN      Reg   \n",
       "\n",
       "    LandContour Utilities    ...     PoolArea PoolQC Fence MiscFeature  \\\n",
       "857         Lvl    AllPub    ...            0    NaN   NaN         NaN   \n",
       "\n",
       "    MiscVal MoSold YrSold  SaleType  SaleCondition  SalePrice  \n",
       "857       0      3   2009        WD         Normal     174000  \n",
       "\n",
       "[1 rows x 81 columns]"
      ]
     },
     "execution_count": 42,
     "metadata": {},
     "output_type": "execute_result"
    }
   ],
   "source": [
    "entire_data[entire_data['1stFlrSF'] == 702]"
   ]
  },
  {
   "cell_type": "code",
   "execution_count": 56,
   "metadata": {},
   "outputs": [
    {
     "name": "stdout",
     "output_type": "stream",
     "text": [
      "[168018.08353689]\n"
     ]
    }
   ],
   "source": [
    "\n",
    "def make_prediction(model, features_list):\n",
    "    return model.predict([features_list])\n",
    "\n",
    "features_l = [702,779,1481,2,3,1,1,343,0,2009,8125,6,5,1994]\n",
    "print(make_prediction(model, features_l))"
   ]
  },
  {
   "cell_type": "code",
   "execution_count": null,
   "metadata": {},
   "outputs": [],
   "source": []
  }
 ],
 "metadata": {
  "kernelspec": {
   "display_name": "Python 3",
   "language": "python",
   "name": "python3"
  },
  "language_info": {
   "codemirror_mode": {
    "name": "ipython",
    "version": 3
   },
   "file_extension": ".py",
   "mimetype": "text/x-python",
   "name": "python",
   "nbconvert_exporter": "python",
   "pygments_lexer": "ipython3",
   "version": "3.6.7"
  }
 },
 "nbformat": 4,
 "nbformat_minor": 2
}
